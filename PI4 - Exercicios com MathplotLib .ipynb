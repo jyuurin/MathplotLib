{
  "nbformat": 4,
  "nbformat_minor": 0,
  "metadata": {
    "colab": {
      "provenance": [],
      "authorship_tag": "ABX9TyN41t23FdxtDEjsDupuwy90",
      "include_colab_link": true
    },
    "kernelspec": {
      "name": "python3",
      "display_name": "Python 3"
    },
    "language_info": {
      "name": "python"
    }
  },
  "cells": [
    {
      "cell_type": "markdown",
      "metadata": {
        "id": "view-in-github",
        "colab_type": "text"
      },
      "source": [
        "<a href=\"https://colab.research.google.com/github/jyuurin/MathplotLib/blob/main/PI4%20-%20Exercicios%20com%20MathplotLib%20.ipynb\" target=\"_parent\"><img src=\"https://colab.research.google.com/assets/colab-badge.svg\" alt=\"Open In Colab\"/></a>"
      ]
    },
    {
      "cell_type": "code",
      "execution_count": 3,
      "metadata": {
        "id": "-1Z3IplcpB09"
      },
      "outputs": [],
      "source": [
        "import matplotlib.pyplot as plt\n",
        "import numpy as np\n",
        "\n",
        "mes = np.arange(12) + 1 # meses de 1 a 12\n",
        "\n",
        "# quantidades de produtos vendidos por mês\n",
        "creme_facial = np.array([ 2500, 2630, 2140, 3400, 3600, 2760, 2980, 3700, 3540, 1990, 2340, 2900 ])\n",
        "limpeza_facial = np.array([ 1500, 1200, 1340, 1130, 1740, 1555, 1120, 1400, 1780, 1890, 2100, 1760 ])\n",
        "pasta_dentaria = np.array([ 5200, 5100, 4550, 5870, 4560, 4890, 4780, 5860, 6100, 8300, 7300, 7400 ])\n",
        "sabonete = np.array([ 9200, 6100, 9550, 8870, 7760, 7490, 8980, 9960, 8100, 10300, 13300, 14400 ])\n",
        "shampoo = np.array([ 1200, 2100, 3550, 1870, 1560, 1890, 1780, 2860, 2100, 2300, 2400, 1800 ])\n",
        "hidratante = np.array([ 1500, 1200, 1340, 1130, 1740, 1555, 1120, 1400, 1780, 1890, 2100, 1760 ])\n",
        "\n",
        "# Gráfico 1 - Total de produtos Vendidos por mês - Linha\n",
        "# Gráfico 2 - Gráfico com todos os produtos vendidos por mês - Linha\n",
        "# Gráfico 3 - Comparativo de Creme Facial com Limpeza Facial por mês - Barras\n",
        "# Gráfico 4 - Histograma de quantidade de meses (y) e faixas de quantidades de produtos vendidos (1000-1999, 2000-2999, ...)\n",
        "# Gráfico 5 - Pizza. % da quantidade produtos vendidos no ano em cada produto"
      ]
    },
    {
      "cell_type": "markdown",
      "source": [
        "Gráfico 1 - Total de produtos Vendidos por mês - Linha\n",
        "\n"
      ],
      "metadata": {
        "id": "kE03CzHotuVD"
      }
    },
    {
      "cell_type": "code",
      "source": [
        "import matplotlib.pyplot as plt\n",
        "import numpy as np\n",
        "\n",
        "array = np.array([creme_facial, limpeza_facial, pasta_dentaria, sabonete, shampoo, hidratante])\n",
        "\n",
        "fig, ax = plt.subplots()\n",
        "ax.plot(mes, array.sum(axis = 0))\n",
        "\n",
        "plt.show()\n"
      ],
      "metadata": {
        "colab": {
          "base_uri": "https://localhost:8080/",
          "height": 265
        },
        "id": "QAORez98qnjd",
        "outputId": "863f1c53-70b8-4df8-c1a6-735d59dd1cb1"
      },
      "execution_count": 8,
      "outputs": [
        {
          "output_type": "display_data",
          "data": {
            "text/plain": [
              "<Figure size 432x288 with 1 Axes>"
            ],
            "image/png": "[encoded data removed]"
          },
          "metadata": {
            "needs_background": "light"
          }
        }
      ]
    },
    {
      "cell_type": "markdown",
      "source": [
        "### Gráfico 2 - Gráfico com todos os produtos vendidos por mês - Linha"
      ],
      "metadata": {
        "id": "RHNQXN7DyOoA"
      }
    },
    {
      "cell_type": "code",
      "source": [
        "import matplotlib.pyplot as plt\n",
        "import numpy as np\n",
        "\n",
        "x = mes\n",
        "\n",
        "ax.plot(mes,\n",
        "\n"
      ],
      "metadata": {
        "id": "XPDJ2MF-ylNJ"
      },
      "execution_count": null,
      "outputs": []
    }
  ]
}